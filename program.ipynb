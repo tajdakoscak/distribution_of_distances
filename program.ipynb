{
 "cells": [
  {
   "cell_type": "code",
   "execution_count": 5,
   "metadata": {
    "collapsed": false
   },
   "outputs": [
   ],
   "source": [
    "import matplotlib.pylab as plt"
   ]
  },
  {
   "cell_type": "code",
   "execution_count": 14,
   "metadata": {
    "collapsed": false
   },
   "outputs": [
   ],
   "source": [
    "D1 = graphs.RandomTree(10)\n",
    "D2 = graphs.RandomTree(10)\n",
    "D3 = graphs.RandomTree(10)\n",
    "D4 = graphs.RandomTree(10)\n",
    "D5 = graphs.RandomTree(10)\n",
    "D6 = graphs.RandomTree(10)\n",
    "D7 = graphs.RandomTree(10)\n",
    "D8 = graphs.RandomTree(10)\n",
    "D9 = graphs.RandomTree(10)\n",
    "D10 = graphs.RandomTree(10)\n",
    "\n",
    "C1 = graphs.RandomRegular(2, 20)\n",
    "C2 = graphs.RandomRegular(2, 20)\n",
    "C3 = graphs.RandomRegular(2, 20)\n",
    "C4 = graphs.RandomRegular(2, 20)\n",
    "C5 = graphs.RandomRegular(2, 20)\n",
    "C6 = graphs.RandomRegular(2, 20)\n",
    "C7 = graphs.RandomRegular(2, 20)\n",
    "C8 = graphs.RandomRegular(2, 20)\n",
    "C9 = graphs.RandomRegular(2, 20)\n",
    "C10 = graphs.RandomRegular(2, 20)"
   ]
  },
  {
   "cell_type": "code",
   "execution_count": 15,
   "metadata": {
    "collapsed": false
   },
   "outputs": [
   ],
   "source": [
    "drevesa = [D1, D2, D3, D4, D5, D6, D7, D8, D9, D10]\n",
    "cikli = [C1, C2, C3, C4, C5, C6, C7, C8, C9, C10]"
   ]
  },
  {
   "cell_type": "code",
   "execution_count": 8,
   "metadata": {
    "collapsed": false
   },
   "outputs": [
   ],
   "source": [
    "def NarisiGraf(graf):\n",
    "    razdalje = graf.distance_all_pairs()\n",
    "    l = razdalje.values()\n",
    "    k = []\n",
    "    for i in l:\n",
    "        for j in i.values():\n",
    "            k = k + [j]\n",
    "    pojavitve = {}\n",
    "    for i in k:\n",
    "        if i in pojavitve:\n",
    "            pojavitve[i] += 1\n",
    "        else:\n",
    "            pojavitve[i] = 1\n",
    "    lists = sorted(pojavitve.items())\n",
    "    x, y = zip(*lists)\n",
    "    plt.plot(x, y)"
   ]
  },
  {
   "cell_type": "code",
   "execution_count": 10,
   "metadata": {
    "collapsed": false
   },
   "outputs": [
   ],
   "source": [
    "def PorazdelitveRazdalj(grafi):\n",
    "    podatki = []\n",
    "    for graf in grafi:\n",
    "        NarisiGraf(graf)\n",
    "    plt.legend([\"Graf 1\", \"Graf 2\", \"Graf 3\", \"Graf 4\", \"Graf 5\", \"Graf 6\", \"Graf 7\", \"Graf 8\", \"Graf 9\", \"Graf 10\"])"
   ]
  },
  {
   "cell_type": "code",
   "execution_count": 0,
   "metadata": {
    "collapsed": false
   },
   "outputs": [
   ],
   "source": [
   ]
  }
 ],
 "metadata": {
  "kernelspec": {
   "display_name": "SageMath 9.4",
   "language": "sagemath",
   "metadata": {
    "cocalc": {
     "description": "Open-source mathematical software system",
     "priority": 10,
     "url": "https://www.sagemath.org/"
    }
   },
   "name": "sage-9.4",
   "resource_dir": "/ext/jupyter/kernels/sage-9.4"
  },
  "language_info": {
   "codemirror_mode": {
    "name": "ipython",
    "version": 3
   },
   "file_extension": ".py",
   "mimetype": "text/x-python",
   "name": "python",
   "nbconvert_exporter": "python",
   "pygments_lexer": "ipython3",
   "version": "3.9.5"
  }
 },
 "nbformat": 4,
 "nbformat_minor": 4
}